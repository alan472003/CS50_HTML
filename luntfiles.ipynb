{
 "cells": [
  {
   "attachments": {},
   "cell_type": "markdown",
   "metadata": {},
   "source": [
    "### initialize data to be stored in files, pickles, shelves"
   ]
  },
  {
   "cell_type": "code",
   "execution_count": 1,
   "metadata": {},
   "outputs": [],
   "source": [
    "bob = {'name': 'Bob Smith', 'age': 42, 'pay': 30000, 'job': 'dev'}\n",
    "sue = {'name': 'Sue Jones', 'age': 45, 'pay': 40000, 'job': 'hdw'}\n",
    "tom = {'name': 'Tom', 'age': 50, 'pay': 0, 'job': None}"
   ]
  },
  {
   "cell_type": "code",
   "execution_count": 2,
   "metadata": {},
   "outputs": [],
   "source": [
    "db = {}\n",
    "db['bob'] = bob\n",
    "db['sue'] = sue\n",
    "db['tom'] = tom"
   ]
  },
  {
   "cell_type": "code",
   "execution_count": 3,
   "metadata": {},
   "outputs": [
    {
     "name": "stdout",
     "output_type": "stream",
     "text": [
      "bob =>\n",
      "  {'name': 'Bob Smith', 'age': 42, 'pay': 30000, 'job': 'dev'}\n",
      "sue =>\n",
      "  {'name': 'Sue Jones', 'age': 45, 'pay': 40000, 'job': 'hdw'}\n",
      "tom =>\n",
      "  {'name': 'Tom', 'age': 50, 'pay': 0, 'job': None}\n"
     ]
    }
   ],
   "source": [
    "if __name__ == '__main__':\n",
    "    for key in db:\n",
    "        print(key, '=>\\n ', db[key])"
   ]
  },
  {
   "attachments": {},
   "cell_type": "markdown",
   "metadata": {},
   "source": [
    "Save in-memory database object to a file with custom formatting;\n",
    "assume 'endrec', 'enddb', and '=>'are not used in the data;\n",
    "assume db is dict of dict; warning: eval can be dangerous - it\n",
    "runs strings as code; could also eval() record dict all at once;\n",
    "could also dbfile.write(key + '\\n') vs print(key, file=dbfile);"
   ]
  },
  {
   "cell_type": "code",
   "execution_count": 1,
   "metadata": {},
   "outputs": [],
   "source": [
    "dbfilename = 'people-file'\n",
    "ENDDB = 'enddb.'\n",
    "ENDREC = 'endrec.'\n",
    "RECSEP = '=>'\n",
    "\n",
    "def storeDbase(db, dbfilename=dbfilename):\n",
    "    \"formatted dump of database to flat file\"\n",
    "    dbfile = open(dbfilename, 'w')\n",
    "    for key in db:\n",
    "        print(key, file=dbfile)\n",
    "        for (name, value) in db[key].items():\n",
    "            print(name + RECSEP + repr(value), file=dbfile)\n",
    "        print(ENDREC, file=dbfile)\n",
    "    print(ENDDB, file=dbfile)\n",
    "    dbfile.close()\n",
    "\n",
    "def loadDbase(dbfilename=dbfilename):\n",
    "    \"parse data to reconstruct database\"\n",
    "    dbfile = open(dbfilename)\n",
    "    import sys\n",
    "    sys.stdin = dbfile\n",
    "    db = {}\n",
    "    key = input()\n",
    "    while key != ENDDB:\n",
    "        rec = {}\n",
    "        field = input()\n",
    "        while field != ENDREC:\n",
    "            name, value = field.split(RECSEP)\n",
    "            rec[name] = eval(value)\n",
    "            field = input()\n",
    "        db[key] = rec\n",
    "        key = input()\n",
    "    return db\n",
    "\n",
    "if __name__ == '__main__':\n",
    "    from initdata import db\n",
    "    storeDbase(db)"
   ]
  },
  {
   "cell_type": "code",
   "execution_count": 2,
   "metadata": {},
   "outputs": [
    {
     "name": "stdout",
     "output_type": "stream",
     "text": [
      "bob\n",
      "name=>'Bob Smith'\n",
      "age=>42\n",
      "pay=>30000\n",
      "job=>'dev'\n",
      "endrec.\n",
      "sue\n",
      "name=>'Sue Jones'\n",
      "age=>45\n",
      "pay=>40000\n",
      "job=>'hdw'\n",
      "endrec.\n",
      "tom\n",
      "name=>'Tom'\n",
      "age=>50\n",
      "pay=>0\n",
      "job=>None\n",
      "endrec.\n",
      "enddb.\n"
     ]
    }
   ],
   "source": [
    "for line in open('people-file'):\n",
    "    print(line, end='')"
   ]
  }
 ],
 "metadata": {
  "kernelspec": {
   "display_name": "base",
   "language": "python",
   "name": "python3"
  },
  "language_info": {
   "codemirror_mode": {
    "name": "ipython",
    "version": 3
   },
   "file_extension": ".py",
   "mimetype": "text/x-python",
   "name": "python",
   "nbconvert_exporter": "python",
   "pygments_lexer": "ipython3",
   "version": "3.9.7"
  },
  "orig_nbformat": 4
 },
 "nbformat": 4,
 "nbformat_minor": 2
}
